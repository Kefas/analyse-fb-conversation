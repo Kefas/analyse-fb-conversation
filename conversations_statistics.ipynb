{
 "cells": [
  {
   "cell_type": "code",
   "execution_count": null,
   "metadata": {},
   "outputs": [],
   "source": [
    "import os\n",
    "import csv\n",
    "import pandas as pd\n",
    "import config"
   ]
  },
  {
   "cell_type": "code",
   "execution_count": null,
   "metadata": {},
   "outputs": [],
   "source": [
    "conversations_path = config.conversations_path"
   ]
  },
  {
   "cell_type": "code",
   "execution_count": null,
   "metadata": {},
   "outputs": [],
   "source": [
    "filenames = [f for f in os.listdir(conversations_path) if f[0] != '.']\n",
    "print('Number of all conversations:', len(filenames))\n",
    "\n",
    "msg_count = {}\n",
    "for filename in filenames:\n",
    "    conv_df = pd.read_csv(os.path.join(conversations_path, filename),\n",
    "                          sep='\\t', header=None, names = [\"author\", \"timestamp\", \"text\", \"type\"],\n",
    "                          quoting=csv.QUOTE_NONE)\n",
    "    author = [author for author in conv_df['author'].unique() if author != config.your_fb_name][0]\n",
    "    msg_count[author] = conv_df.shape[0]\n"
   ]
  },
  {
   "cell_type": "code",
   "execution_count": null,
   "metadata": {
    "scrolled": false
   },
   "outputs": [],
   "source": [
    "sorted_msg_count = sorted(msg_count.items(), key=lambda x: x[1], reverse=True)\n",
    "print('idx, name, number of messages')\n",
    "for idx, (recipient, count) in enumerate(sorted_msg_count):\n",
    "    print(idx + 1, recipient, count)"
   ]
  }
 ],
 "metadata": {
  "kernelspec": {
   "display_name": "analyse-fb-conversation-FzMLH4-F",
   "language": "python",
   "name": "analyse-fb-conversation-fzmlh4-f"
  },
  "language_info": {
   "codemirror_mode": {
    "name": "ipython",
    "version": 3
   },
   "file_extension": ".py",
   "mimetype": "text/x-python",
   "name": "python",
   "nbconvert_exporter": "python",
   "pygments_lexer": "ipython3",
   "version": "3.7.0"
  }
 },
 "nbformat": 4,
 "nbformat_minor": 2
}
