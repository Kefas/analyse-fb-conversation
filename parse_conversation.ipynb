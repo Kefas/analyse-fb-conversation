{
 "cells": [
  {
   "cell_type": "code",
   "execution_count": 3,
   "metadata": {},
   "outputs": [],
   "source": [
    "from helpers import parse_messages\n",
    "import numpy as np\n",
    "\n",
    "\n",
    "messages_path = 'message.json'\n",
    "output_file = 'conversations.tsv'"
   ]
  },
  {
   "cell_type": "code",
   "execution_count": 4,
   "metadata": {},
   "outputs": [],
   "source": [
    "lines = parse_messages(messages_path)"
   ]
  },
  {
   "cell_type": "code",
   "execution_count": 5,
   "metadata": {},
   "outputs": [],
   "source": [
    "conversation = np.array(lines)\n",
    "np.savetxt(output_file, conversation, delimiter=\"\\t\", fmt='%s')"
   ]
  }
 ],
 "metadata": {
  "kernelspec": {
   "display_name": "analyse-fb-conversation-FzMLH4-F",
   "language": "python",
   "name": "analyse-fb-conversation-fzmlh4-f"
  },
  "language_info": {
   "codemirror_mode": {
    "name": "ipython",
    "version": 3
   },
   "file_extension": ".py",
   "mimetype": "text/x-python",
   "name": "python",
   "nbconvert_exporter": "python",
   "pygments_lexer": "ipython3",
   "version": "3.7.0"
  }
 },
 "nbformat": 4,
 "nbformat_minor": 2
}
