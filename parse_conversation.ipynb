{
 "cells": [
  {
   "cell_type": "code",
   "execution_count": 4,
   "metadata": {},
   "outputs": [],
   "source": [
    "import json\n",
    "import codecs\n",
    "import numpy as np\n",
    "from typing import List\n",
    "\n",
    "messages_path = 'messages.json'\n",
    "output_file = 'conversations.tsv'"
   ]
  },
  {
   "cell_type": "code",
   "execution_count": 5,
   "metadata": {},
   "outputs": [],
   "source": [
    "def parse_messages(messages_path: str) -> List[List[str]]:\n",
    "    with open(messages_path, encoding='utf-8') as f:\n",
    "        raw_conversation = json.loads(f.read())\n",
    "    \n",
    "    lines=[]\n",
    "    for message in raw_conversation['messages']:\n",
    "        author = message['sender_name'].encode('latin1').decode('utf8')\n",
    "        text = message.get('content', '').replace('\\t', ' ').replace('\\n', ' ').replace('\\r', ' ').encode('latin1').decode('utf8') \n",
    "        time = message['timestamp_ms']\n",
    "        msg_type = message['type']\n",
    "        lines.append([author, time, text, msg_type])\n",
    "\n",
    "    return lines\n",
    "    "
   ]
  },
  {
   "cell_type": "code",
   "execution_count": 6,
   "metadata": {},
   "outputs": [],
   "source": [
    "lines = parse_messages(messages_path)"
   ]
  },
  {
   "cell_type": "code",
   "execution_count": 7,
   "metadata": {},
   "outputs": [],
   "source": [
    "conversation = np.array(lines)\n",
    "np.savetxt(output_file, conversation, delimiter=\"\\t\", fmt='%s')"
   ]
  }
 ],
 "metadata": {
  "kernelspec": {
   "display_name": "analyse-fb-conversation-FzMLH4-F",
   "language": "python",
   "name": "analyse-fb-conversation-fzmlh4-f"
  },
  "language_info": {
   "codemirror_mode": {
    "name": "ipython",
    "version": 3
   },
   "file_extension": ".py",
   "mimetype": "text/x-python",
   "name": "python",
   "nbconvert_exporter": "python",
   "pygments_lexer": "ipython3",
   "version": "3.7.0"
  }
 },
 "nbformat": 4,
 "nbformat_minor": 2
}
