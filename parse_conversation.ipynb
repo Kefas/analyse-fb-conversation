{
 "cells": [
  {
   "cell_type": "code",
   "execution_count": 12,
   "metadata": {},
   "outputs": [],
   "source": [
    "import json\n",
    "import codecs\n",
    "import numpy as np\n",
    "\n",
    "messages_path = 'message_kukuczka.json'\n",
    "output_file = 'conversations_kukuczka.tsv'"
   ]
  },
  {
   "cell_type": "code",
   "execution_count": 13,
   "metadata": {},
   "outputs": [],
   "source": [
    "with open(messages_path, encoding='utf-8') as f:\n",
    "    raw_conversation = json.loads(f.read())"
   ]
  },
  {
   "cell_type": "code",
   "execution_count": 14,
   "metadata": {},
   "outputs": [],
   "source": [
    "lines=[]\n",
    "for message in raw_conversation['messages']:\n",
    "    author = message['sender_name'].encode('latin1').decode('utf8')\n",
    "    text = message.get('content', '').replace('\\t', ' ').replace('\\n', ' ').replace('\\r', ' ').encode('latin1').decode('utf8') \n",
    "    time = message['timestamp_ms']\n",
    "    msg_type = message['type']\n",
    "    lines.append([author, time, text, msg_type])\n",
    "\n",
    "conversation = np.array(lines)\n",
    "np.savetxt(output_file, conversation, delimiter=\"\\t\", fmt='%s')"
   ]
  },
  {
   "cell_type": "code",
   "execution_count": null,
   "metadata": {},
   "outputs": [],
   "source": []
  }
 ],
 "metadata": {
  "kernelspec": {
   "display_name": "analyse-fb-conversation-FzMLH4-F",
   "language": "python",
   "name": "analyse-fb-conversation-fzmlh4-f"
  },
  "language_info": {
   "codemirror_mode": {
    "name": "ipython",
    "version": 3
   },
   "file_extension": ".py",
   "mimetype": "text/x-python",
   "name": "python",
   "nbconvert_exporter": "python",
   "pygments_lexer": "ipython3",
   "version": "3.7.0"
  }
 },
 "nbformat": 4,
 "nbformat_minor": 2
}
