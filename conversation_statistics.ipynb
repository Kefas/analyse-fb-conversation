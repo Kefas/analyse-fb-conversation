{
 "cells": [
  {
   "cell_type": "code",
   "execution_count": 3,
   "metadata": {},
   "outputs": [],
   "source": [
    "import pandas as pd\n",
    "import plotly\n",
    "import plotly.plotly as py\n",
    "import plotly.graph_objs as go\n",
    "import numpy as np\n",
    "import datetime\n",
    "import collections\n",
    "import csv\n",
    "import config\n",
    "\n",
    "plotly.tools.set_credentials_file(username=config.plotly_username, api_key=config.plotly_api_key)\n",
    "\n",
    "conversation_path = 'conversations_plachno.tsv'"
   ]
  },
  {
   "cell_type": "code",
   "execution_count": 4,
   "metadata": {},
   "outputs": [],
   "source": [
    "msg_df = pd.read_csv(conversation_path, sep='\\t', header=None, names = [\"author\", \"timestamp\", \"text\", \"type\"], quoting=csv.QUOTE_NONE)"
   ]
  },
  {
   "cell_type": "code",
   "execution_count": 5,
   "metadata": {},
   "outputs": [],
   "source": [
    "# clean the data\n",
    "msg_df['text'] = msg_df['text'].str.lower()\n",
    "msg_df.dropna()\n",
    "msg_df = msg_df.drop(msg_df[msg_df['text'].str.contains('.*sent [a photo|an attachement|a sticker].', na=False)].index)\n",
    "msg_df = msg_df.drop(msg_df[msg_df['text'].str.contains('^http', na=False)].index)\n",
    "msg_df = msg_df.drop(msg_df[msg_df['text'].str.contains('.*https://9gag.com.*', na=False)].index)\n",
    "msg_df = msg_df.drop(msg_df[msg_df['text'].str.contains('.* 󰀀.*', na=False)].index)"
   ]
  },
  {
   "cell_type": "code",
   "execution_count": 6,
   "metadata": {
    "scrolled": true
   },
   "outputs": [
    {
     "name": "stdout",
     "output_type": "stream",
     "text": [
      "All msgs 26755\n",
      "Avg length 27.37\n",
      "Msgs with XD 111\n",
      "\n",
      "My Friend msgs: 14677, (54.86%)\n",
      "My Friend avg length 25.38\n",
      "My Friend msgs with XD 1 (0.0%)\n",
      "\n",
      "Piotr Konsek msgs: 12078, (45.14%)\n",
      "Piotr Konsek avg length 29.793\n",
      "Piotr Konsek msgs with XD 110 (0.41%)\n",
      "\n"
     ]
    },
    {
     "name": "stderr",
     "output_type": "stream",
     "text": [
      "/Users/piokon/.local/share/virtualenvs/analyse-fb-conversation-FzMLH4-F/lib/python3.7/site-packages/ipykernel_launcher.py:12: UserWarning:\n",
      "\n",
      "Boolean Series key will be reindexed to match DataFrame index.\n",
      "\n"
     ]
    }
   ],
   "source": [
    "print('All msgs {}'.format(msg_df.shape[0]))\n",
    "print('Avg length {}'.format(round(msg_df['text'].str.len().mean(), 2)))\n",
    "\n",
    "msg_with_xd = msg_df[msg_df['text'].str.contains('[xX] ?[dD]+', na=False)]\n",
    "print('Msgs with XD {}'.format(msg_with_xd.shape[0]))\n",
    "print()\n",
    "\n",
    "def statistics(author_name: str, msg_df: pd.DataFrame):\n",
    "    author_msgs = msg_df[msg_df['author'] == author_name]\n",
    "    print('{} msgs: {}, ({}%)'.format(author_name, author_msgs.shape[0], round(100 * author_msgs.shape[0] / msg_df.shape[0], 2)))\n",
    "    print('{} avg length {}'.format(author_name, round(author_msgs['text'].str.len().mean(), 3)))\n",
    "    msg_with_xd = author_msgs[msg_df['text'].str.contains('[xX] ?[dD]+', na=False)]\n",
    "    print('{} msgs with XD {} ({}%)'.format(author_name, msg_with_xd.shape[0], round(100 * msg_with_xd.shape[0] / msg_df.shape[0], 2)))\n",
    "\n",
    "\n",
    "authors = np.unique(msg_df['author'].values)\n",
    "for author in authors:\n",
    "    statistics(author, msg_df)\n",
    "    print()\n"
   ]
  },
  {
   "cell_type": "code",
   "execution_count": 7,
   "metadata": {},
   "outputs": [],
   "source": [
    "timestamps = msg_df['timestamp'].values\n",
    "hours = [int(datetime.datetime.fromtimestamp(timestamp/1000).strftime('%H')) for timestamp in timestamps]\n",
    "months = [int(datetime.datetime.fromtimestamp(timestamp/1000).strftime('%m')) for timestamp in timestamps]\n",
    "years = [int(datetime.datetime.fromtimestamp(timestamp/1000).strftime('%Y')) for timestamp in timestamps]\n",
    "weekdays = [datetime.datetime.fromtimestamp(timestamp/1000).strftime('%A') for timestamp in timestamps]"
   ]
  },
  {
   "cell_type": "code",
   "execution_count": 8,
   "metadata": {
    "scrolled": false
   },
   "outputs": [
    {
     "name": "stderr",
     "output_type": "stream",
     "text": [
      "/Users/piokon/.local/share/virtualenvs/analyse-fb-conversation-FzMLH4-F/lib/python3.7/site-packages/IPython/core/display.py:689: UserWarning:\n",
      "\n",
      "Consider using IPython.display.IFrame instead\n",
      "\n"
     ]
    },
    {
     "data": {
      "text/html": [
       "<iframe id=\"igraph\" scrolling=\"no\" style=\"border:none;\" seamless=\"seamless\" src=\"https://plot.ly/~Kefasbf67/170.embed\" height=\"525px\" width=\"100%\"></iframe>"
      ],
      "text/plain": [
       "<plotly.tools.PlotlyDisplay object>"
      ]
     },
     "execution_count": 8,
     "metadata": {},
     "output_type": "execute_result"
    }
   ],
   "source": [
    "hour_density_list = np.zeros(24)\n",
    "\n",
    "for hour in hours:\n",
    "    hour_density_list[(hour - 6) % 24] += 1\n",
    "    \n",
    "x = np.hstack((np.arange(6, 24), np.arange(6)))\n",
    "data = [go.Bar(x=x, y=hour_density_list)]\n",
    "layout = go.Layout(\n",
    "    title='Number of msgs in a specific hour of the day',\n",
    "    xaxis = dict(\n",
    "        type='category',\n",
    "        title='hour',\n",
    "    ),\n",
    "    yaxis = dict(\n",
    "        title='number of msgs'\n",
    "    )\n",
    ")\n",
    "\n",
    "fig = go.Figure(data=data, layout=layout)\n",
    "\n",
    "py.iplot(fig)"
   ]
  },
  {
   "cell_type": "code",
   "execution_count": 9,
   "metadata": {},
   "outputs": [
    {
     "data": {
      "text/html": [
       "<iframe id=\"igraph\" scrolling=\"no\" style=\"border:none;\" seamless=\"seamless\" src=\"https://plot.ly/~Kefasbf67/172.embed\" height=\"525px\" width=\"100%\"></iframe>"
      ],
      "text/plain": [
       "<plotly.tools.PlotlyDisplay object>"
      ]
     },
     "execution_count": 9,
     "metadata": {},
     "output_type": "execute_result"
    }
   ],
   "source": [
    "weekday_counter = collections.Counter(weekdays)\n",
    "x = ['Monday', 'Tuesday', 'Wednesday', 'Thursday', 'Friday', 'Saturday', 'Sunday']\n",
    "y = [weekday_counter.get(key) for key in x]\n",
    "\n",
    "data = [go.Bar(x=x, y=y)]\n",
    "layout = go.Layout(\n",
    "    title='Number of msgs in a specific day of the week',\n",
    "    xaxis = dict(\n",
    "        type='category',\n",
    "        title='day of the week',\n",
    "    ),\n",
    "    yaxis = dict(\n",
    "        title='number of msgs'\n",
    "    )\n",
    ")\n",
    "\n",
    "fig = go.Figure(data=data, layout=layout)\n",
    "\n",
    "py.iplot(fig)"
   ]
  },
  {
   "cell_type": "code",
   "execution_count": 10,
   "metadata": {
    "scrolled": false
   },
   "outputs": [
    {
     "data": {
      "text/html": [
       "<iframe id=\"igraph\" scrolling=\"no\" style=\"border:none;\" seamless=\"seamless\" src=\"https://plot.ly/~Kefasbf67/174.embed\" height=\"525px\" width=\"100%\"></iframe>"
      ],
      "text/plain": [
       "<plotly.tools.PlotlyDisplay object>"
      ]
     },
     "execution_count": 10,
     "metadata": {},
     "output_type": "execute_result"
    }
   ],
   "source": [
    "month_density = collections.Counter(months)\n",
    "x = np.sort(list(month_density.keys()))\n",
    "y = [month_density.get(key) for key in x]\n",
    "\n",
    "data = [go.Bar(x=x, y=y)]\n",
    "layout = go.Layout(\n",
    "    title='Number of msgs in a specific month',\n",
    "    xaxis = dict(\n",
    "        type='category',\n",
    "        title='month',\n",
    "    ),\n",
    "    yaxis = dict(\n",
    "        title='number of msgs'\n",
    "    )\n",
    ")\n",
    "\n",
    "fig = go.Figure(data=data, layout=layout)\n",
    "\n",
    "py.iplot(fig)"
   ]
  },
  {
   "cell_type": "code",
   "execution_count": 11,
   "metadata": {},
   "outputs": [
    {
     "data": {
      "text/html": [
       "<iframe id=\"igraph\" scrolling=\"no\" style=\"border:none;\" seamless=\"seamless\" src=\"https://plot.ly/~Kefasbf67/176.embed\" height=\"525px\" width=\"100%\"></iframe>"
      ],
      "text/plain": [
       "<plotly.tools.PlotlyDisplay object>"
      ]
     },
     "execution_count": 11,
     "metadata": {},
     "output_type": "execute_result"
    }
   ],
   "source": [
    "year_density = collections.Counter(years)\n",
    "x = np.sort(list(year_density.keys()))\n",
    "y = [year_density.get(key) for key in x]\n",
    "\n",
    "data = [go.Bar(x=x, y=y)]\n",
    "layout = go.Layout(\n",
    "    title='Number of msgs in a specific year',\n",
    "    xaxis = dict(\n",
    "        type='category',\n",
    "        title='year',\n",
    "    ),\n",
    "    yaxis = dict(\n",
    "        title='number of msgs'\n",
    "    )\n",
    ")\n",
    "\n",
    "fig = go.Figure(data=data, layout=layout)\n",
    "\n",
    "py.iplot(fig)\n"
   ]
  },
  {
   "cell_type": "code",
   "execution_count": 12,
   "metadata": {},
   "outputs": [],
   "source": [
    "messages_xd = msg_df[msg_df['text'].str.contains('[xX] ?[dD]+', na=False)]"
   ]
  },
  {
   "cell_type": "code",
   "execution_count": 13,
   "metadata": {},
   "outputs": [],
   "source": [
    "import re\n",
    "\n",
    "numbers_of_d = []\n",
    "for message in messages_xd['text']:\n",
    "    groups = re.findall('[xX] ?[dD]+', message)\n",
    "    for group in groups:\n",
    "        numbers_of_d.append(group.lower().count('d'))"
   ]
  },
  {
   "cell_type": "code",
   "execution_count": 14,
   "metadata": {},
   "outputs": [],
   "source": [
    "numbers_of_d_dict = {}\n",
    "\n",
    "for number_of_d in numbers_of_d:\n",
    "    if number_of_d in numbers_of_d_dict.keys():\n",
    "        numbers_of_d_dict[number_of_d] += 1\n",
    "    else:\n",
    "        numbers_of_d_dict[number_of_d] = 1\n",
    "        \n",
    "keys = list(numbers_of_d_dict.keys())\n",
    "keys.sort()\n",
    "\n",
    "x = keys\n",
    "y = [numbers_of_d_dict[xx] for xx in x]"
   ]
  },
  {
   "cell_type": "code",
   "execution_count": 15,
   "metadata": {},
   "outputs": [
    {
     "data": {
      "text/html": [
       "<iframe id=\"igraph\" scrolling=\"no\" style=\"border:none;\" seamless=\"seamless\" src=\"https://plot.ly/~Kefasbf67/178.embed\" height=\"525px\" width=\"100%\"></iframe>"
      ],
      "text/plain": [
       "<plotly.tools.PlotlyDisplay object>"
      ]
     },
     "execution_count": 15,
     "metadata": {},
     "output_type": "execute_result"
    }
   ],
   "source": [
    "data = [go.Bar(x=x, y=y)]\n",
    "layout = go.Layout(\n",
    "    title='Number of D in XD',\n",
    "    xaxis = dict(\n",
    "        type='category',\n",
    "        title='count of D'\n",
    "    ),\n",
    "    yaxis = dict(\n",
    "        type='log',\n",
    "        autorange=True,\n",
    "        title='frequency (log scale)'\n",
    "    )\n",
    ")\n",
    "\n",
    "fig = go.Figure(data=data, layout=layout)\n",
    "\n",
    "py.iplot(fig)\n"
   ]
  },
  {
   "cell_type": "code",
   "execution_count": 16,
   "metadata": {},
   "outputs": [
    {
     "data": {
      "text/plain": [
       "<Figure size 2000x1000 with 1 Axes>"
      ]
     },
     "metadata": {},
     "output_type": "display_data"
    }
   ],
   "source": [
    "import random\n",
    "from wordcloud import WordCloud\n",
    "import matplotlib.pyplot as plt\n",
    "\n",
    "def _red_color(word, font_size, position, orientation, random_state=None, **kwargs):\n",
    "    return 'hsl({:d}, 80%, {:d}%)'.format(random.randint(0, 35), random.randint(60, 80))\n",
    "\n",
    "messages = \" \".join([str(msg) for msg in msg_df['text'].values])\n",
    "prepared_stopwords = open('stop-words-polish1.txt').read().split('\\n')\n",
    "custom_stopwords = open('custom_polish_stopwords.txt').read().split('\\n')\n",
    "\n",
    "stopwords = prepared_stopwords + custom_stopwords  \n",
    "stopwords = set(stopwords)\n",
    "\n",
    "plt.figure(figsize=(20,10))\n",
    "wordcloud = WordCloud(background_color='black',stopwords=stopwords, height=800, width=1600).generate(messages)\n",
    "plt.imshow(wordcloud.recolor(color_func=_red_color, random_state=42), interpolation='bilinear')\n",
    "plt.axis('off')\n",
    "plt.savefig('word_cloud.png', dpi=200)\n",
    "plt.show()"
   ]
  },
  {
   "cell_type": "code",
   "execution_count": 17,
   "metadata": {},
   "outputs": [
    {
     "data": {
      "text/html": [
       "<div>\n",
       "<style scoped>\n",
       "    .dataframe tbody tr th:only-of-type {\n",
       "        vertical-align: middle;\n",
       "    }\n",
       "\n",
       "    .dataframe tbody tr th {\n",
       "        vertical-align: top;\n",
       "    }\n",
       "\n",
       "    .dataframe thead th {\n",
       "        text-align: right;\n",
       "    }\n",
       "</style>\n",
       "<table border=\"1\" class=\"dataframe\">\n",
       "  <thead>\n",
       "    <tr style=\"text-align: right;\">\n",
       "      <th></th>\n",
       "      <th>author</th>\n",
       "      <th>timestamp</th>\n",
       "      <th>text</th>\n",
       "      <th>type</th>\n",
       "    </tr>\n",
       "  </thead>\n",
       "  <tbody>\n",
       "    <tr>\n",
       "      <th>0</th>\n",
       "      <td>My Friend</td>\n",
       "      <td>1544887084559</td>\n",
       "      <td>(y)</td>\n",
       "      <td>Generic</td>\n",
       "    </tr>\n",
       "    <tr>\n",
       "      <th>1</th>\n",
       "      <td>Piotr Konsek</td>\n",
       "      <td>1544883352116</td>\n",
       "      <td>może naskrobie artykuł.na medium</td>\n",
       "      <td>Generic</td>\n",
       "    </tr>\n",
       "    <tr>\n",
       "      <th>2</th>\n",
       "      <td>Piotr Konsek</td>\n",
       "      <td>1544883339565</td>\n",
       "      <td>why not</td>\n",
       "      <td>Generic</td>\n",
       "    </tr>\n",
       "    <tr>\n",
       "      <th>3</th>\n",
       "      <td>Piotr Konsek</td>\n",
       "      <td>1544883328503</td>\n",
       "      <td>w sumie</td>\n",
       "      <td>Generic</td>\n",
       "    </tr>\n",
       "    <tr>\n",
       "      <th>4</th>\n",
       "      <td>My Friend</td>\n",
       "      <td>1544881607142</td>\n",
       "      <td>dobry materiał do opisania w blogpoaście</td>\n",
       "      <td>Generic</td>\n",
       "    </tr>\n",
       "  </tbody>\n",
       "</table>\n",
       "</div>"
      ],
      "text/plain": [
       "         author      timestamp                                      text  \\\n",
       "0     My Friend  1544887084559                                       (y)   \n",
       "1  Piotr Konsek  1544883352116          może naskrobie artykuł.na medium   \n",
       "2  Piotr Konsek  1544883339565                                   why not   \n",
       "3  Piotr Konsek  1544883328503                                   w sumie   \n",
       "4     My Friend  1544881607142  dobry materiał do opisania w blogpoaście   \n",
       "\n",
       "      type  \n",
       "0  Generic  \n",
       "1  Generic  \n",
       "2  Generic  \n",
       "3  Generic  \n",
       "4  Generic  "
      ]
     },
     "execution_count": 17,
     "metadata": {},
     "output_type": "execute_result"
    }
   ],
   "source": [
    "msg_df.head()"
   ]
  },
  {
   "cell_type": "code",
   "execution_count": null,
   "metadata": {},
   "outputs": [],
   "source": []
  }
 ],
 "metadata": {
  "kernelspec": {
   "display_name": "analyse-fb-conversation-FzMLH4-F",
   "language": "python",
   "name": "analyse-fb-conversation-fzmlh4-f"
  },
  "language_info": {
   "codemirror_mode": {
    "name": "ipython",
    "version": 3
   },
   "file_extension": ".py",
   "mimetype": "text/x-python",
   "name": "python",
   "nbconvert_exporter": "python",
   "pygments_lexer": "ipython3",
   "version": "3.7.0"
  }
 },
 "nbformat": 4,
 "nbformat_minor": 2
}
