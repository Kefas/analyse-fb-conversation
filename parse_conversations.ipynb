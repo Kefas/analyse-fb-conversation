{
 "cells": [
  {
   "cell_type": "code",
   "execution_count": 33,
   "metadata": {},
   "outputs": [],
   "source": [
    "from helpers import parse_messages, count_authors\n",
    "import os\n",
    "import numpy as np\n",
    "import config"
   ]
  },
  {
   "cell_type": "code",
   "execution_count": 34,
   "metadata": {},
   "outputs": [],
   "source": [
    "raw_messages_path = config.raw_messages_path\n",
    "parsed_messages_path = config.parsed_messages_path\n",
    "if not os.path.exists(parsed_messages_path):\n",
    "        os.makedirs(parsed_messages_path)\n",
    "\n",
    "save_group_chats = False\n",
    "save_solo_chat = False\n",
    "minimum_number_of_msgs = 5"
   ]
  },
  {
   "cell_type": "code",
   "execution_count": 35,
   "metadata": {},
   "outputs": [],
   "source": [
    "inbox_path = os.path.join(raw_messages_path, 'inbox')\n",
    "filenames = [f for f in os.listdir(inbox_path) if f[0] != '.']\n",
    "for filename in filenames:\n",
    "    messages = os.path.join(inbox_path, filename, 'message.json')\n",
    "    parsed_conversation = parse_messages(messages)\n",
    "    parsed_conversation = np.array(parsed_conversation)\n",
    "    number_of_msgs = parsed_conversation.shape[0]\n",
    "    if number_of_msgs < minimum_number_of_msgs:\n",
    "        continue\n",
    "    recipients = count_authors(parsed_conversation, exclude=['', config.your_fb_name])\n",
    "    if (save_group_chats and recipients > 1) or (save_solo_chat and recipients == 0) or recipients == 1:\n",
    "        np.savetxt(os.path.join(parsed_messages_path, filename + '.tsv') , parsed_conversation, delimiter=\"\\t\", fmt='%s')            \n",
    "\n"
   ]
  }
 ],
 "metadata": {
  "kernelspec": {
   "display_name": "analyse-fb-conversation-FzMLH4-F",
   "language": "python",
   "name": "analyse-fb-conversation-fzmlh4-f"
  },
  "language_info": {
   "codemirror_mode": {
    "name": "ipython",
    "version": 3
   },
   "file_extension": ".py",
   "mimetype": "text/x-python",
   "name": "python",
   "nbconvert_exporter": "python",
   "pygments_lexer": "ipython3",
   "version": "3.7.0"
  }
 },
 "nbformat": 4,
 "nbformat_minor": 2
}
