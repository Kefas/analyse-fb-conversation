{
 "cells": [
  {
   "cell_type": "code",
   "execution_count": 9,
   "metadata": {},
   "outputs": [],
   "source": [
    "from helpers import parse_messages, count_authors\n",
    "import os\n",
    "import numpy as np"
   ]
  },
  {
   "cell_type": "code",
   "execution_count": 10,
   "metadata": {},
   "outputs": [],
   "source": [
    "raw_messages_path = '/Users/piokon/dataset/facebook/messages'\n",
    "parsed_messages_path = '/Users/piokon/dataset/facebook/parsed_messages'\n",
    "\n",
    "save_group_chats = False\n",
    "save_solo_chat = False"
   ]
  },
  {
   "cell_type": "code",
   "execution_count": 11,
   "metadata": {},
   "outputs": [],
   "source": [
    "inbox_path = os.path.join(raw_messages_path, 'inbox')\n",
    "filenames = [f for f in os.listdir(inbox_path) if f[0] != '.']\n",
    "for filename in filenames:\n",
    "    messages = os.path.join(inbox_path, filename, 'message.json')\n",
    "    parsed_conversation = parse_messages(messages)\n",
    "    parsed_conversation = np.array(parsed_conversation)\n",
    "    \n",
    "    authors = count_authors(parsed_conversation)\n",
    "    if (save_group_chats and authors > 2) or (save_solo_chat and authors == 1) or authors == 2:\n",
    "        if not os.path.exists(parsed_messages_path):\n",
    "            os.makedirs(parsed_messages_path)\n",
    "        np.savetxt(os.path.join(parsed_messages_path, filename + '.tsv') , parsed_conversation, delimiter=\"\\t\", fmt='%s')"
   ]
  }
 ],
 "metadata": {
  "kernelspec": {
   "display_name": "analyse-fb-conversation-FzMLH4-F",
   "language": "python",
   "name": "analyse-fb-conversation-fzmlh4-f"
  },
  "language_info": {
   "codemirror_mode": {
    "name": "ipython",
    "version": 3
   },
   "file_extension": ".py",
   "mimetype": "text/x-python",
   "name": "python",
   "nbconvert_exporter": "python",
   "pygments_lexer": "ipython3",
   "version": "3.7.0"
  }
 },
 "nbformat": 4,
 "nbformat_minor": 2
}
